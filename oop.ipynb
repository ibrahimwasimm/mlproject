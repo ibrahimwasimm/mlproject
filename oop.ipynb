{
 "cells": [
  {
   "cell_type": "code",
   "execution_count": null,
   "id": "ab1a60e2",
   "metadata": {},
   "outputs": [
    {
     "name": "stdout",
     "output_type": "stream",
     "text": [
      "2000\n"
     ]
    }
   ],
   "source": [
    "class BankAccount:\n",
    "    def __init__(self,name,balance,deposit):\n",
    "        self.name=name\n",
    "        self.balance=balance\n",
    "        self.deposit=deposit\n",
    "\n",
    "    def balance(self):\n",
    "        print(f\"you have {self.name} {self.balance}\")\n",
    "\n",
    "    def deposit(self):\n",
    "        print(f\" you {self.deposit} amount\")\n",
    "\n",
    "person_A=BankAccount(\"ibrahim\",0,2000)\n",
    "print(person_A.deposit)"
   ]
  },
  {
   "cell_type": "code",
   "execution_count": null,
   "id": "34e33fff",
   "metadata": {},
   "outputs": [
    {
     "name": "stdout",
     "output_type": "stream",
     "text": [
      "100\n",
      " you got 6000 your new balance is 6100\n",
      " you got 6000 your new balance is 12100\n",
      "10000 withdrawn\n"
     ]
    }
   ],
   "source": [
    "class BankAccount:\n",
    "    def __init__(self,name,balance=100):#constructor\n",
    "        self.name=name\n",
    "        self.balance=balance\n",
    "    def balance(self):# methods\n",
    "        print(f\"{self.name}your balance is {self.balance}\")\n",
    "\n",
    "    def deposit(self,amount):\n",
    "       self.balance+=amount\n",
    "       print(f\" you got {amount} your new balance is {self.balance}\")\n",
    "\n",
    "    def withdraw(self,amount):\n",
    "        if  amount > self.balance :\n",
    "            print(\" out of balance\")\n",
    "        else:\n",
    "            self.balance-=amount\n",
    "            print(f\"{amount} withdrawn\")\n",
    "    def balance(self):\n",
    "        return self.balance\n",
    "\n",
    "#creating object \n",
    "\n",
    "person=BankAccount(\"ibrahim\",)\n",
    "print(person.balance)\n",
    "person.deposit(6000)\n",
    "person.deposit(6000)\n",
    "person.withdraw(10000)"
   ]
  },
  {
   "cell_type": "code",
   "execution_count": null,
   "id": "a255ac0a",
   "metadata": {},
   "outputs": [],
   "source": []
  }
 ],
 "metadata": {
  "kernelspec": {
   "display_name": ".venv (3.12.4)",
   "language": "python",
   "name": "python3"
  },
  "language_info": {
   "codemirror_mode": {
    "name": "ipython",
    "version": 3
   },
   "file_extension": ".py",
   "mimetype": "text/x-python",
   "name": "python",
   "nbconvert_exporter": "python",
   "pygments_lexer": "ipython3",
   "version": "3.12.4"
  }
 },
 "nbformat": 4,
 "nbformat_minor": 5
}
